{
 "cells": [
  {
   "cell_type": "markdown",
   "metadata": {
    "id": "rCLqAvHn4kob"
   },
   "source": [
    "## Deep Learning Course Project - Gesture Recognition\n",
    "\n",
    "### Problem Statement\n",
    "Imagine you are working as a data scientist at a home electronics company which manufactures state of the art smart televisions. You want to develop a cool feature in the smart-TV that can recognise five different gestures performed by the user which will help users control the TV without using a remote.\n",
    "\n",
    "The gestures are continuously monitored by the webcam mounted on the TV. Each gesture corresponds to a specific command:\n",
    "\n",
    "| Gesture | Corresponding Action |\n",
    "| --- | --- |\n",
    "| Thumbs Up | Increase the volume. |\n",
    "| Thumbs Down | Decrease the volume. |\n",
    "| Left Swipe | 'Jump' backwards 10 seconds. |\n",
    "| Right Swipe | 'Jump' forward 10 seconds. |\n",
    "| Stop | Pause the movie. |\n",
    "\n",
    "Each video is a sequence of 30 frames (or images).\n",
    "\n",
    "### Objectives:\n",
    "1. **Generator**:  The generator should be able to take a batch of videos as input without any error. Steps like cropping, resizing and normalization should be performed successfully.\n",
    "\n",
    "2. **Model**: Develop a model that is able to train without any errors which will be judged on the total number of parameters (as the inference(prediction) time should be less) and the accuracy achieved. As suggested by Snehansu, start training on a small amount of data and then proceed further.\n",
    "\n",
    "3. **Write up**: This should contain the detailed procedure followed in choosing the final model. The write up should start with the reason for choosing the base model, then highlight the reasons and metrics taken into consideration to modify and experiment to arrive at the final model."
   ]
  },
  {
   "cell_type": "code",
   "execution_count": 10,
   "metadata": {
    "executionInfo": {
     "elapsed": 1502,
     "status": "ok",
     "timestamp": 1709126446070,
     "user": {
      "displayName": "vamshidhar reddy",
      "userId": "09564641503446018519"
     },
     "user_tz": -330
    },
    "id": "uXu9OAf44kot"
   },
   "outputs": [],
   "source": [
    "# Importing the necessary libraries\n",
    "\n",
    "import numpy as np\n",
    "import os\n",
    "import imageio\n",
    "from skimage.transform import resize\n",
    "import datetime\n",
    "import os\n",
    "import warnings\n",
    "warnings.filterwarnings(\"ignore\")\n",
    "import abc\n",
    "from sys import getsizeof"
   ]
  },
  {
   "cell_type": "markdown",
   "metadata": {
    "id": "t3ncmNy94kou"
   },
   "source": [
    "We set the random seed so that the results don't vary drastically."
   ]
  },
  {
   "cell_type": "code",
   "execution_count": 11,
   "metadata": {
    "executionInfo": {
     "elapsed": 11513,
     "status": "ok",
     "timestamp": 1709126460710,
     "user": {
      "displayName": "vamshidhar reddy",
      "userId": "09564641503446018519"
     },
     "user_tz": -330
    },
    "id": "ZCd8-CNv4kou"
   },
   "outputs": [],
   "source": [
    "np.random.seed(30)\n",
    "import random as rn\n",
    "rn.seed(30)\n",
    "from keras import backend as K\n",
    "import tensorflow as tf\n",
    "#tf.set_random_seed(30)\n",
    "tf.random.set_seed(30)"
   ]
  },
  {
   "cell_type": "code",
   "execution_count": 12,
   "metadata": {
    "executionInfo": {
     "elapsed": 883,
     "status": "ok",
     "timestamp": 1709126461582,
     "user": {
      "displayName": "vamshidhar reddy",
      "userId": "09564641503446018519"
     },
     "user_tz": -330
    },
    "id": "zHcfqNfT4kov"
   },
   "outputs": [],
   "source": [
    "import cv2\n",
    "import matplotlib.pyplot as plt\n",
    "%matplotlib inline"
   ]
  },
  {
   "cell_type": "markdown",
   "metadata": {
    "id": "IalBPwYp4kov"
   },
   "source": [
    "In this block, you read the folder names for training and validation. You also set the `batch_size` here. Note that you set the batch size in such a way that you are able to use the GPU in full capacity. You keep increasing the batch size until the machine throws an error."
   ]
  },
  {
   "cell_type": "code",
   "execution_count": 13,
   "metadata": {
    "executionInfo": {
     "elapsed": 7,
     "status": "ok",
     "timestamp": 1709126463477,
     "user": {
      "displayName": "vamshidhar reddy",
      "userId": "09564641503446018519"
     },
     "user_tz": -330
    },
    "id": "lO_fkR0k4kow"
   },
   "outputs": [],
   "source": [
    "# importing some other libraries which will be needed for model building.\n",
    "from tensorflow.keras.models import Sequential, Model\n",
    "from tensorflow.keras.layers import Dense, GRU, Flatten, TimeDistributed, BatchNormalization, Activation\n",
    "from tensorflow.keras.layers import Conv3D, MaxPooling3D, Conv2D, MaxPooling2D\n",
    "from tensorflow.keras.layers import LSTM\n",
    "from tensorflow.keras.callbacks import ModelCheckpoint, ReduceLROnPlateau, EarlyStopping\n",
    "from tensorflow.keras import optimizers\n",
    "from tensorflow.keras.layers import Dropout\n"
   ]
  },
  {
   "cell_type": "code",
   "execution_count": 14,
   "metadata": {
    "executionInfo": {
     "elapsed": 747,
     "status": "ok",
     "timestamp": 1709126467280,
     "user": {
      "displayName": "vamshidhar reddy",
      "userId": "09564641503446018519"
     },
     "user_tz": -330
    },
    "id": "V5mdiDqE4kox"
   },
   "outputs": [],
   "source": [
    "\n",
    "project_folder=r\"C:\\Users\\Ashok Kumar Das\\Downloads\\Project_data\\Project_data\""
   ]
  },
  {
   "cell_type": "markdown",
   "metadata": {
    "id": "Izz4OCKJ4kox"
   },
   "source": [
    "##### Plotting"
   ]
  },
  {
   "cell_type": "code",
   "execution_count": 15,
   "metadata": {
    "executionInfo": {
     "elapsed": 703,
     "status": "ok",
     "timestamp": 1709126470791,
     "user": {
      "displayName": "vamshidhar reddy",
      "userId": "09564641503446018519"
     },
     "user_tz": -330
    },
    "id": "I4015j814kox"
   },
   "outputs": [],
   "source": [
    "# function to plot the training/validation accuracies/losses.\n",
    "\n",
    "def plot(history):\n",
    "    fig, axes = plt.subplots(nrows=1, ncols=2, figsize=(15,4))\n",
    "    axes[0].plot(history.history['loss'])\n",
    "    axes[0].plot(history.history['val_loss'])\n",
    "    axes[0].legend(['loss','val_loss'])\n",
    "\n",
    "    axes[1].plot(history.history['categorical_accuracy'])\n",
    "    axes[1].plot(history.history['val_categorical_accuracy'])\n",
    "    axes[1].legend(['categorical_accuracy','val_categorical_accuracy'])"
   ]
  },
  {
   "cell_type": "markdown",
   "metadata": {
    "id": "O3Gcp9GM4koy"
   },
   "source": [
    "## Generator\n",
    "This is one of the most important part of the code. The overall structure of the generator has been given. In the generator, you are going to preprocess the images as you have images of 2 different dimensions as well as create a batch of video frames. You have to experiment with `img_idx`, `y`,`z` and normalization such that you get high accuracy."
   ]
  },
  {
   "cell_type": "code",
   "execution_count": 16,
   "metadata": {
    "executionInfo": {
     "elapsed": 8,
     "status": "ok",
     "timestamp": 1709126473722,
     "user": {
      "displayName": "vamshidhar reddy",
      "userId": "09564641503446018519"
     },
     "user_tz": -330
    },
    "id": "ArS9AwRg4koy"
   },
   "outputs": [],
   "source": [
    "class ModelBuilder(metaclass= abc.ABCMeta):\n",
    "    # initialisng the path where project data resides\n",
    "    def initialize_path(self,project_folder):\n",
    "        self.train_doc = np.random.permutation(open(project_folder + '/' + 'train.csv').readlines())\n",
    "        self.val_doc = np.random.permutation(open(project_folder + '/' + 'val.csv').readlines())\n",
    "        self.train_path = project_folder + '/' + 'train'\n",
    "        self.val_path =  project_folder + '/' + 'val'\n",
    "        self.num_train_sequences = len(self.train_doc)\n",
    "        self.num_val_sequences = len(self.val_doc)\n",
    "    # initialising the image properties\n",
    "    def initialize_image_properties(self,image_height=100,image_width=100):\n",
    "        self.image_height=image_height\n",
    "        self.image_width=image_width\n",
    "        self.channels=3\n",
    "        self.num_classes=5\n",
    "        self.total_frames=30\n",
    "    # initialising the batch size, frames to sample and the no. of epochs\n",
    "    def initialize_hyperparams(self,frames_to_sample=15,batch_size=20,num_epochs=20):\n",
    "        self.frames_to_sample=frames_to_sample\n",
    "        self.batch_size=batch_size\n",
    "        self.num_epochs=num_epochs\n",
    "\n",
    "    # MOST IMPORTANT PART HERE - The generator function\n",
    "    def generator(self,source_path, folder_list, augment=False):\n",
    "        img_idx = np.round(np.linspace(0,self.total_frames-1,self.frames_to_sample)).astype(int)\n",
    "        batch_size=self.batch_size\n",
    "        while True:\n",
    "            t = np.random.permutation(folder_list)\n",
    "            num_batches = len(t)//batch_size\n",
    "\n",
    "            for batch in range(num_batches):\n",
    "                batch_data, batch_labels= self.one_batch_data(source_path,t,batch,batch_size,img_idx,augment)\n",
    "                yield batch_data, batch_labels\n",
    "\n",
    "            remaining_seq=len(t)%batch_size\n",
    "\n",
    "            if (remaining_seq != 0):\n",
    "                batch_data, batch_labels= self.one_batch_data(source_path,t,num_batches,batch_size,img_idx,augment,remaining_seq)\n",
    "                yield batch_data, batch_labels\n",
    "\n",
    "\n",
    "    def one_batch_data(self,source_path,t,batch,batch_size,img_idx,augment,remaining_seq=0):\n",
    "\n",
    "        seq_len = remaining_seq if remaining_seq else batch_size\n",
    "\n",
    "        batch_data = np.zeros((seq_len,len(img_idx),self.image_height,self.image_width,self.channels))\n",
    "        batch_labels = np.zeros((seq_len,self.num_classes))\n",
    "\n",
    "        if (augment): batch_data_aug = np.zeros((seq_len,len(img_idx),self.image_height,self.image_width,self.channels))\n",
    "\n",
    "\n",
    "        for folder in range(seq_len):\n",
    "            imgs = os.listdir(source_path+'/'+ t[folder + (batch*batch_size)].split(';')[0])\n",
    "            for idx,item in enumerate(img_idx):\n",
    "                #performing image reading and resizing\n",
    "                image = imageio.imread(source_path+'/'+ t[folder + (batch*batch_size)].strip().split(';')[0]+'/'+imgs[item]).astype(np.float32)\n",
    "                image_resized=resize(image,(self.image_height,self.image_width,3))\n",
    "\n",
    "                #normalizing the images\n",
    "                batch_data[folder,idx,:,:,0] = (image_resized[:,:,0])/255\n",
    "                batch_data[folder,idx,:,:,1] = (image_resized[:,:,1])/255\n",
    "                batch_data[folder,idx,:,:,2] = (image_resized[:,:,2])/255\n",
    "\n",
    "                if (augment):\n",
    "                    shifted = cv2.warpAffine(image,\n",
    "                                             np.float32([[1, 0, np.random.randint(-30,30)],[0, 1, np.random.randint(-30,30)]]),\n",
    "                                            (image.shape[1], image.shape[0]))\n",
    "\n",
    "                    gray = cv2.cvtColor(shifted,cv2.COLOR_BGR2GRAY)\n",
    "\n",
    "                    x0, y0 = np.argwhere(gray > 0).min(axis=0)\n",
    "                    x1, y1 = np.argwhere(gray > 0).max(axis=0)\n",
    "                    # cropping the images to have the targeted gestures and remove the noise from the images.\n",
    "                    cropped=shifted[x0:x1,y0:y1,:]\n",
    "\n",
    "                    image_resized=resize(cropped,(self.image_height,self.image_width,3))\n",
    "\n",
    "                    #shifted = cv2.warpAffine(image_resized,\n",
    "                    #                        np.float32([[1, 0, np.random.randint(-3,3)],[0, 1, np.random.randint(-3,3)]]),\n",
    "                    #                        (image_resized.shape[1], image_resized.shape[0]))\n",
    "\n",
    "                    batch_data_aug[folder,idx,:,:,0] = (image_resized[:,:,0])/255\n",
    "                    batch_data_aug[folder,idx,:,:,1] = (image_resized[:,:,1])/255\n",
    "                    batch_data_aug[folder,idx,:,:,2] = (image_resized[:,:,2])/255\n",
    "\n",
    "\n",
    "            batch_labels[folder, int(t[folder + (batch*batch_size)].strip().split(';')[2])] = 1\n",
    "\n",
    "\n",
    "        if (augment):\n",
    "            batch_data=np.concatenate([batch_data,batch_data_aug])\n",
    "            batch_labels=np.concatenate([batch_labels,batch_labels])\n",
    "\n",
    "\n",
    "        return(batch_data,batch_labels)\n",
    "\n",
    "\n",
    "    def train_model(self, model, augment_data=False):\n",
    "        train_generator = self.generator(self.train_path, self.train_doc,augment=augment_data)\n",
    "        val_generator = self.generator(self.val_path, self.val_doc)\n",
    "\n",
    "        model_name = 'model_init' + '_' + str(datetime.datetime.now()).replace(' ','').replace(':','_') + '/'\n",
    "\n",
    "        if not os.path.exists(model_name):\n",
    "            os.mkdir(model_name)\n",
    "\n",
    "        filepath = model_name + 'model-{epoch:05d}-{loss:.5f}-{categorical_accuracy:.5f}-{val_loss:.5f}-{val_categorical_accuracy:.5f}.h5'\n",
    "\n",
    "        checkpoint = ModelCheckpoint(filepath, monitor='val_loss', verbose=1, save_best_only=True, save_weights_only=False, mode='auto', period=1)\n",
    "        LR = ReduceLROnPlateau(monitor='val_loss', factor=0.2, verbose=1, patience=4)\n",
    "\n",
    "        earlystop = EarlyStopping( monitor=\"val_loss\", min_delta=0,patience=10,verbose=1)\n",
    "        callbacks_list = [checkpoint, LR, earlystop]\n",
    "\n",
    "        if (self.num_train_sequences%self.batch_size) == 0:\n",
    "            steps_per_epoch = int(self.num_train_sequences/self.batch_size)\n",
    "        else:\n",
    "            steps_per_epoch = (self.num_train_sequences//self.batch_size) + 1\n",
    "\n",
    "        if (self.num_val_sequences%self.batch_size) == 0:\n",
    "            validation_steps = int(self.num_val_sequences/self.batch_size)\n",
    "        else:\n",
    "            validation_steps = (self.num_val_sequences//self.batch_size) + 1\n",
    "\n",
    "        history=model.fit_generator(train_generator, steps_per_epoch=steps_per_epoch, epochs=self.num_epochs, verbose=1,\n",
    "                            callbacks=callbacks_list, validation_data=val_generator,\n",
    "                            validation_steps=validation_steps, class_weight=None, workers=1, initial_epoch=0)\n",
    "        return history\n",
    "\n",
    "\n",
    "    @abc.abstractmethod\n",
    "    def define_model(self):\n",
    "        pass"
   ]
  },
  {
   "cell_type": "markdown",
   "metadata": {
    "id": "YYIfJ_G84koz"
   },
   "source": [
    "## Model\n",
    "Here you make the model using different functionalities that Keras provides. Remember to use `Conv3D` and `MaxPooling3D` and not `Conv2D` and `Maxpooling2D` for a 3D convolution model. You would want to use `TimeDistributed` while building a Conv2D + RNN model. Also remember that the last layer is the softmax. Design the network in such a way that the model is able to give good accuracy on the least number of parameters so that it can fit in the memory of the webcam."
   ]
  },
  {
   "cell_type": "markdown",
   "metadata": {
    "id": "hTO433lM4ko6"
   },
   "source": [
    "## Experimenting with Image resolution, number of frames to use and batch_size"
   ]
  },
  {
   "cell_type": "markdown",
   "metadata": {
    "id": "Hnqsc9mH4ko8"
   },
   "source": [
    " we had expiremented with different image properties like width and height ,but out system keep crashing if we use bigger images so we have fixed the image size as 100*100\n",
    "\n",
    " Also by giving the batch size lower, the model will learn the intricate details but system will crash hence we had kepth the batch around 16 to 64\n",
    "\n",
    "ResourceExhaustedError: OOM when allocating tensor with shape[40,16,30,160,160] and type float on /job:localhost/replica:0/task:0/device:GPU:0 by allocator GPU_0_bfc"
   ]
  },
  {
   "cell_type": "markdown",
   "metadata": {
    "id": "DQE0aDnp4ko8"
   },
   "source": [
    "##### So lets trade-off between these parameters"
   ]
  },
  {
   "cell_type": "markdown",
   "metadata": {
    "collapsed": true,
    "id": "IJj_TzkI4ko9"
   },
   "source": [
    "##### Below are the experiments to see how training time is affected by image resolution, number of images in sequence and batch size"
   ]
  },
  {
   "cell_type": "markdown",
   "metadata": {
    "id": "ub4n5jcq4kpD"
   },
   "source": [
    "## Model 1\n",
    "### Base Model - This is basically a test model so as to see how the parameters are affecting the training time of the model Batch Size = 64 and No. of Epochs = 2 frame to consider as 20"
   ]
  },
  {
   "cell_type": "code",
   "execution_count": 17,
   "metadata": {
    "colab": {
     "base_uri": "https://localhost:8080/"
    },
    "executionInfo": {
     "elapsed": 497,
     "status": "ok",
     "timestamp": 1708931184847,
     "user": {
      "displayName": "vamshidhar reddy",
      "userId": "09564641503446018519"
     },
     "user_tz": -330
    },
    "id": "cl0RkKKD4ko8",
    "outputId": "dc0aa343-2745-4b83-bbcb-d3b8703b3bf6"
   },
   "outputs": [
    {
     "name": "stdout",
     "output_type": "stream",
     "text": [
      "Memory util is 3.662109538912773 Gigs\n"
     ]
    }
   ],
   "source": [
    "print(\"Memory util is {} Gigs\". format(getsizeof(np.zeros((40,16,30,160,160)))/(1024*1024*1024)))"
   ]
  },
  {
   "cell_type": "code",
   "execution_count": 18,
   "metadata": {
    "executionInfo": {
     "elapsed": 811,
     "status": "ok",
     "timestamp": 1709126492341,
     "user": {
      "displayName": "vamshidhar reddy",
      "userId": "09564641503446018519"
     },
     "user_tz": -330
    },
    "id": "W_NiKS9I20mK"
   },
   "outputs": [],
   "source": [
    "class ModelConv3D1(ModelBuilder):\n",
    "  def define_model(self, filtersize=(3, 3, 3), dense_neurons=16, dropout=0.25):\n",
    "    model = Sequential()\n",
    "\n",
    "    model.add(Conv3D(16, filtersize, padding='same', input_shape=(self.frames_to_sample, self.image_height, self.image_width, self.channels)))\n",
    "    model.add(Activation('relu'))\n",
    "    model.add(BatchNormalization())\n",
    "    model.add(MaxPooling3D(pool_size=(2, 2, 2)))\n",
    "\n",
    "    model.add(Conv3D(32, filtersize, padding='same'))\n",
    "    model.add(Activation('relu'))\n",
    "    model.add(BatchNormalization())\n",
    "    model.add(MaxPooling3D(pool_size=(2, 2, 2)))\n",
    "\n",
    "    model.add(Flatten())\n",
    "    model.add(Dense(dense_neurons, activation='relu'))\n",
    "    model.add(BatchNormalization())\n",
    "    model.add(Dropout(dropout))\n",
    "\n",
    "    model.add(Dense(self.num_classes, activation='softmax'))\n",
    "\n",
    "    optimiser = optimizers.Adam()\n",
    "    model.compile(optimizer=optimiser, loss='categorical_crossentropy', metrics=['categorical_accuracy'])\n",
    "\n",
    "    return model\n"
   ]
  },
  {
   "cell_type": "code",
   "execution_count": 19,
   "metadata": {
    "id": "Ha4CwsCG4kpB"
   },
   "outputs": [
    {
     "name": "stdout",
     "output_type": "stream",
     "text": [
      "Total Params: 2255525\n",
      "WARNING:tensorflow:`period` argument is deprecated. Please use `save_freq` to specify the frequency in number of batches seen.\n",
      "Epoch 1/2\n",
      "45/45 [==============================] - ETA: 0s - loss: 1.3410 - categorical_accuracy: 0.4827 \n",
      "Epoch 1: val_loss improved from inf to 1.45467, saving model to model_init_2024-08-3022_22_47.410772\\model-00001-1.34096-0.48265-1.45467-0.31000.h5\n",
      "45/45 [==============================] - 590s 13s/step - loss: 1.3410 - categorical_accuracy: 0.4827 - val_loss: 1.4547 - val_categorical_accuracy: 0.3100 - lr: 0.0010\n",
      "Epoch 2/2\n",
      "45/45 [==============================] - ETA: 0s - loss: 0.9436 - categorical_accuracy: 0.6335 \n",
      "Epoch 2: val_loss did not improve from 1.45467\n",
      "45/45 [==============================] - 582s 13s/step - loss: 0.9436 - categorical_accuracy: 0.6335 - val_loss: 1.9338 - val_categorical_accuracy: 0.2600 - lr: 0.0010\n"
     ]
    },
    {
     "data": {
      "text/plain": [
       "<keras.src.callbacks.History at 0x26e49d9f790>"
      ]
     },
     "execution_count": 19,
     "metadata": {},
     "output_type": "execute_result"
    }
   ],
   "source": [
    "conv_3d1=ModelConv3D1()\n",
    "conv_3d1.initialize_path(project_folder)\n",
    "conv_3d1.initialize_image_properties(image_height=100,image_width=100)\n",
    "conv_3d1.initialize_hyperparams(frames_to_sample=30,batch_size=15,num_epochs=2)\n",
    "conv_3d1_model=conv_3d1.define_model()\n",
    "print(\"Total Params:\", conv_3d1_model.count_params())\n",
    "conv_3d1.train_model(conv_3d1_model)"
   ]
  },
  {
   "cell_type": "markdown",
   "metadata": {
    "id": "pNv43LvL4kpD"
   },
   "source": [
    "- As we see from the above experiments **\"image resolution\"** and **number of frames** in sequence have more impact on training time than **batch_size**\n",
    "- We can consider the Batch Size around 15-40\n",
    "- We will change the resoulution 80*80, 100*100 according the model performance\n",
    "- we have also kept the number of frames to consider as half of the original video that is 15 frames  becauase as we increase the frame size the model keep crashing again.\n"
   ]
  },
  {
   "cell_type": "markdown",
   "metadata": {
    "id": "cj4IBvWF4ko5"
   },
   "source": [
    "##### Sample Cropping"
   ]
  },
  {
   "cell_type": "code",
   "execution_count": 20,
   "metadata": {
    "colab": {
     "base_uri": "https://localhost:8080/",
     "height": 307
    },
    "executionInfo": {
     "elapsed": 41661,
     "status": "ok",
     "timestamp": 1709047646910,
     "user": {
      "displayName": "vamshidhar reddy",
      "userId": "09564641503446018519"
     },
     "user_tz": -330
    },
    "id": "GKRFuoyn4ko5",
    "outputId": "bd7164a6-fe16-43fc-f6f1-63843bb7634d"
   },
   "outputs": [
    {
     "data": {
      "text/plain": [
       "<matplotlib.image.AxesImage at 0x26e4adc3640>"
      ]
     },
     "execution_count": 20,
     "metadata": {},
     "output_type": "execute_result"
    },
    {
     "data": {
      "image/png": "[encoded data removed]",
      "text/plain": [
       "<Figure size 432x288 with 2 Axes>"
      ]
     },
     "metadata": {
      "needs_background": "light"
     },
     "output_type": "display_data"
    }
   ],
   "source": [
    "test_generator=ModelConv3D1()\n",
    "test_generator.initialize_path(project_folder)\n",
    "test_generator.initialize_image_properties(image_height=160,image_width=160)\n",
    "test_generator.initialize_hyperparams(frames_to_sample=30,batch_size=3,num_epochs=1)\n",
    "\n",
    "g=test_generator.generator(test_generator.val_path,test_generator.val_doc,augment=True)\n",
    "batch_data, batch_labels=next(g)\n",
    "fig, axes = plt.subplots(nrows=1, ncols=2)\n",
    "axes[0].imshow(batch_data[0,15,:,:,:])\n",
    "axes[1].imshow(batch_data[3,15,:,:,:])"
   ]
  },
  {
   "cell_type": "code",
   "execution_count": 21,
   "metadata": {
    "colab": {
     "base_uri": "https://localhost:8080/"
    },
    "executionInfo": {
     "elapsed": 2068,
     "status": "ok",
     "timestamp": 1709085883837,
     "user": {
      "displayName": "vamshidhar reddy",
      "userId": "09564641503446018519"
     },
     "user_tz": -330
    },
    "id": "hdH0r-AW6dTe",
    "outputId": "d2d9b6e2-8745-42ef-ca19-5ec2710b4658"
   },
   "outputs": [
    {
     "name": "stdout",
     "output_type": "stream",
     "text": [
      "Model: \"sequential_1\"\n",
      "_________________________________________________________________\n",
      " Layer (type)                Output Shape              Param #   \n",
      "=================================================================\n",
      " conv3d_2 (Conv3D)           (None, 20, 80, 80, 16)    1312      \n",
      "                                                                 \n",
      " activation_2 (Activation)   (None, 20, 80, 80, 16)    0         \n",
      "                                                                 \n",
      " batch_normalization_3 (Bat  (None, 20, 80, 80, 16)    64        \n",
      " chNormalization)                                                \n",
      "                                                                 \n",
      " max_pooling3d_2 (MaxPoolin  (None, 10, 40, 40, 16)    0         \n",
      " g3D)                                                            \n",
      "                                                                 \n",
      " conv3d_3 (Conv3D)           (None, 10, 40, 40, 32)    13856     \n",
      "                                                                 \n",
      " activation_3 (Activation)   (None, 10, 40, 40, 32)    0         \n",
      "                                                                 \n",
      " batch_normalization_4 (Bat  (None, 10, 40, 40, 32)    128       \n",
      " chNormalization)                                                \n",
      "                                                                 \n",
      " max_pooling3d_3 (MaxPoolin  (None, 5, 20, 20, 32)     0         \n",
      " g3D)                                                            \n",
      "                                                                 \n",
      " flatten_1 (Flatten)         (None, 64000)             0         \n",
      "                                                                 \n",
      " dense_2 (Dense)             (None, 16)                1024016   \n",
      "                                                                 \n",
      " batch_normalization_5 (Bat  (None, 16)                64        \n",
      " chNormalization)                                                \n",
      "                                                                 \n",
      " dropout_1 (Dropout)         (None, 16)                0         \n",
      "                                                                 \n",
      " dense_3 (Dense)             (None, 5)                 85        \n",
      "                                                                 \n",
      "=================================================================\n",
      "Total params: 1039525 (3.97 MB)\n",
      "Trainable params: 1039397 (3.96 MB)\n",
      "Non-trainable params: 128 (512.00 Byte)\n",
      "_________________________________________________________________\n"
     ]
    }
   ],
   "source": [
    "conv_3d1 = ModelConv3D1()\n",
    "conv_3d1.initialize_path(project_folder)\n",
    "conv_3d1.initialize_image_properties(image_height=80, image_width=80)\n",
    "conv_3d1.initialize_hyperparams(frames_to_sample=20, batch_size=64, num_epochs=2)\n",
    "conv_3d1_model = conv_3d1.define_model()\n",
    "conv_3d1_model.summary()\n"
   ]
  },
  {
   "cell_type": "code",
   "execution_count": 22,
   "metadata": {
    "colab": {
     "base_uri": "https://localhost:8080/"
    },
    "executionInfo": {
     "elapsed": 4278632,
     "status": "ok",
     "timestamp": 1709090175392,
     "user": {
      "displayName": "vamshidhar reddy",
      "userId": "09564641503446018519"
     },
     "user_tz": -330
    },
    "id": "waVfN3vf4kpF",
    "outputId": "09a7d697-95fe-47c6-cb84-b9d472ba607f"
   },
   "outputs": [
    {
     "name": "stdout",
     "output_type": "stream",
     "text": [
      "Total Params: 1039525\n",
      "WARNING:tensorflow:`period` argument is deprecated. Please use `save_freq` to specify the frequency in number of batches seen.\n",
      "Epoch 1/2\n",
      "11/11 [==============================] - ETA: 0s - loss: 1.3668 - categorical_accuracy: 0.4766 \n",
      "Epoch 1: val_loss improved from inf to 1.84858, saving model to model_init_2024-08-3022_46_26.569342\\model-00001-1.36678-0.47662-1.84858-0.24000.h5\n",
      "11/11 [==============================] - 242s 22s/step - loss: 1.3668 - categorical_accuracy: 0.4766 - val_loss: 1.8486 - val_categorical_accuracy: 0.2400 - lr: 0.0010\n",
      "Epoch 2/2\n",
      "11/11 [==============================] - ETA: 0s - loss: 0.9355 - categorical_accuracy: 0.7059 \n",
      "Epoch 2: val_loss improved from 1.84858 to 1.73459, saving model to model_init_2024-08-3022_46_26.569342\\model-00002-0.93552-0.70588-1.73459-0.21000.h5\n",
      "11/11 [==============================] - 235s 21s/step - loss: 0.9355 - categorical_accuracy: 0.7059 - val_loss: 1.7346 - val_categorical_accuracy: 0.2100 - lr: 0.0010\n"
     ]
    }
   ],
   "source": [
    "print(\"Total Params:\", conv_3d1_model.count_params())\n",
    "history_model1 = conv_3d1.train_model(conv_3d1_model)"
   ]
  },
  {
   "cell_type": "code",
   "execution_count": 23,
   "metadata": {
    "colab": {
     "base_uri": "https://localhost:8080/",
     "height": 368
    },
    "executionInfo": {
     "elapsed": 1492,
     "status": "ok",
     "timestamp": 1709090813241,
     "user": {
      "displayName": "vamshidhar reddy",
      "userId": "09564641503446018519"
     },
     "user_tz": -330
    },
    "id": "4RT3mqjV4kpF",
    "outputId": "8cd37c72-0ba4-4d03-8afc-7642773ac6a7"
   },
   "outputs": [
    {
     "data": {
      "image/png": "[encoded data removed]",
      "text/plain": [
       "<Figure size 1080x288 with 2 Axes>"
      ]
     },
     "metadata": {
      "needs_background": "light"
     },
     "output_type": "display_data"
    }
   ],
   "source": [
    "plot(history_model1)"
   ]
  },
  {
   "cell_type": "markdown",
   "metadata": {
    "id": "4XAt7tBV4kpG"
   },
   "source": [
    "##### As you can see the Model is clearly overfitting. and not performing well on the validation data as we had to decrease the size of image and frames and increase the batch size and tested for only few epochs due to system performance constraints, hence it is expected to see decline in validation accuracy"
   ]
  },
  {
   "cell_type": "markdown",
   "metadata": {
    "id": "F9zr6yco4kpG"
   },
   "source": [
    "## Model 2  \n",
    "### Adding dropout layers - here we have increase the Batch Size = 128 we might miss the intricate detaisl of the image but helps us training without crashing and No. of Epochs = 15"
   ]
  },
  {
   "cell_type": "code",
   "execution_count": 24,
   "metadata": {
    "colab": {
     "base_uri": "https://localhost:8080/"
    },
    "executionInfo": {
     "elapsed": 582,
     "status": "ok",
     "timestamp": 1709126502651,
     "user": {
      "displayName": "vamshidhar reddy",
      "userId": "09564641503446018519"
     },
     "user_tz": -330
    },
    "id": "nv8a67IZ4kpG",
    "outputId": "64579fdc-8fe1-453f-e3aa-687644c71d3d"
   },
   "outputs": [
    {
     "name": "stdout",
     "output_type": "stream",
     "text": [
      "Model: \"sequential_2\"\n",
      "_________________________________________________________________\n",
      " Layer (type)                Output Shape              Param #   \n",
      "=================================================================\n",
      " conv3d_4 (Conv3D)           (None, 5, 80, 80, 16)     1312      \n",
      "                                                                 \n",
      " activation_4 (Activation)   (None, 5, 80, 80, 16)     0         \n",
      "                                                                 \n",
      " batch_normalization_6 (Bat  (None, 5, 80, 80, 16)     64        \n",
      " chNormalization)                                                \n",
      "                                                                 \n",
      " max_pooling3d_4 (MaxPoolin  (None, 2, 40, 40, 16)     0         \n",
      " g3D)                                                            \n",
      "                                                                 \n",
      " conv3d_5 (Conv3D)           (None, 2, 40, 40, 32)     13856     \n",
      "                                                                 \n",
      " activation_5 (Activation)   (None, 2, 40, 40, 32)     0         \n",
      "                                                                 \n",
      " batch_normalization_7 (Bat  (None, 2, 40, 40, 32)     128       \n",
      " chNormalization)                                                \n",
      "                                                                 \n",
      " max_pooling3d_5 (MaxPoolin  (None, 1, 20, 20, 32)     0         \n",
      " g3D)                                                            \n",
      "                                                                 \n",
      " flatten_2 (Flatten)         (None, 12800)             0         \n",
      "                                                                 \n",
      " dense_4 (Dense)             (None, 16)                204816    \n",
      "                                                                 \n",
      " batch_normalization_8 (Bat  (None, 16)                64        \n",
      " chNormalization)                                                \n",
      "                                                                 \n",
      " dropout_2 (Dropout)         (None, 16)                0         \n",
      "                                                                 \n",
      " dense_5 (Dense)             (None, 5)                 85        \n",
      "                                                                 \n",
      "=================================================================\n",
      "Total params: 220325 (860.64 KB)\n",
      "Trainable params: 220197 (860.14 KB)\n",
      "Non-trainable params: 128 (512.00 Byte)\n",
      "_________________________________________________________________\n"
     ]
    }
   ],
   "source": [
    "conv_3d2 = ModelConv3D1()\n",
    "conv_3d2.initialize_path(project_folder)\n",
    "conv_3d2.initialize_image_properties(image_height=80, image_width=80)\n",
    "conv_3d2.initialize_hyperparams(frames_to_sample=5, batch_size=128, num_epochs=15)\n",
    "conv_3d2_model = conv_3d2.define_model()\n",
    "conv_3d2_model.summary()"
   ]
  },
  {
   "cell_type": "code",
   "execution_count": 25,
   "metadata": {
    "colab": {
     "base_uri": "https://localhost:8080/"
    },
    "executionInfo": {
     "elapsed": 625881,
     "status": "ok",
     "timestamp": 1709128448551,
     "user": {
      "displayName": "vamshidhar reddy",
      "userId": "09564641503446018519"
     },
     "user_tz": -330
    },
    "id": "8rcPEc9-4kpH",
    "outputId": "fc1726d0-6732-4ad3-b252-73eac5ef0402"
   },
   "outputs": [
    {
     "name": "stdout",
     "output_type": "stream",
     "text": [
      "Total Params: 220325\n",
      "WARNING:tensorflow:`period` argument is deprecated. Please use `save_freq` to specify the frequency in number of batches seen.\n",
      "Epoch 1/15\n",
      "6/6 [==============================] - ETA: 0s - loss: 1.5747 - categorical_accuracy: 0.4163\n",
      "Epoch 1: val_loss improved from inf to 1.60856, saving model to model_init_2024-08-3022_54_32.501278\\model-00001-1.57475-0.41629-1.60856-0.32000.h5\n",
      "6/6 [==============================] - 51s 8s/step - loss: 1.5747 - categorical_accuracy: 0.4163 - val_loss: 1.6086 - val_categorical_accuracy: 0.3200 - lr: 0.0010\n",
      "Epoch 2/15\n",
      "6/6 [==============================] - ETA: 0s - loss: 0.9597 - categorical_accuracy: 0.6531\n",
      "Epoch 2: val_loss improved from 1.60856 to 1.53020, saving model to model_init_2024-08-3022_54_32.501278\\model-00002-0.95973-0.65309-1.53020-0.20000.h5\n",
      "6/6 [==============================] - 49s 8s/step - loss: 0.9597 - categorical_accuracy: 0.6531 - val_loss: 1.5302 - val_categorical_accuracy: 0.2000 - lr: 0.0010\n",
      "Epoch 3/15\n",
      "6/6 [==============================] - ETA: 0s - loss: 0.7456 - categorical_accuracy: 0.7572\n",
      "Epoch 3: val_loss did not improve from 1.53020\n",
      "6/6 [==============================] - 48s 8s/step - loss: 0.7456 - categorical_accuracy: 0.7572 - val_loss: 1.5995 - val_categorical_accuracy: 0.2300 - lr: 0.0010\n",
      "Epoch 4/15\n",
      "6/6 [==============================] - ETA: 0s - loss: 0.6090 - categorical_accuracy: 0.8537\n",
      "Epoch 4: val_loss did not improve from 1.53020\n",
      "6/6 [==============================] - 48s 8s/step - loss: 0.6090 - categorical_accuracy: 0.8537 - val_loss: 1.7312 - val_categorical_accuracy: 0.2600 - lr: 0.0010\n",
      "Epoch 5/15\n",
      "6/6 [==============================] - ETA: 0s - loss: 0.5534 - categorical_accuracy: 0.8839\n",
      "Epoch 5: val_loss did not improve from 1.53020\n",
      "6/6 [==============================] - 52s 9s/step - loss: 0.5534 - categorical_accuracy: 0.8839 - val_loss: 1.8406 - val_categorical_accuracy: 0.2200 - lr: 0.0010\n",
      "Epoch 6/15\n",
      "6/6 [==============================] - ETA: 0s - loss: 0.4877 - categorical_accuracy: 0.9110\n",
      "Epoch 6: val_loss did not improve from 1.53020\n",
      "\n",
      "Epoch 6: ReduceLROnPlateau reducing learning rate to 0.00020000000949949026.\n",
      "6/6 [==============================] - 48s 8s/step - loss: 0.4877 - categorical_accuracy: 0.9110 - val_loss: 1.9995 - val_categorical_accuracy: 0.1800 - lr: 0.0010\n",
      "Epoch 7/15\n",
      "6/6 [==============================] - ETA: 0s - loss: 0.4351 - categorical_accuracy: 0.9457\n",
      "Epoch 7: val_loss did not improve from 1.53020\n",
      "6/6 [==============================] - 49s 8s/step - loss: 0.4351 - categorical_accuracy: 0.9457 - val_loss: 2.1831 - val_categorical_accuracy: 0.1600 - lr: 2.0000e-04\n",
      "Epoch 8/15\n",
      "6/6 [==============================] - ETA: 0s - loss: 0.4324 - categorical_accuracy: 0.9351\n",
      "Epoch 8: val_loss did not improve from 1.53020\n",
      "6/6 [==============================] - 50s 8s/step - loss: 0.4324 - categorical_accuracy: 0.9351 - val_loss: 2.3812 - val_categorical_accuracy: 0.1600 - lr: 2.0000e-04\n",
      "Epoch 9/15\n",
      "6/6 [==============================] - ETA: 0s - loss: 0.4107 - categorical_accuracy: 0.9457\n",
      "Epoch 9: val_loss did not improve from 1.53020\n",
      "6/6 [==============================] - 48s 8s/step - loss: 0.4107 - categorical_accuracy: 0.9457 - val_loss: 2.6222 - val_categorical_accuracy: 0.1600 - lr: 2.0000e-04\n",
      "Epoch 10/15\n",
      "6/6 [==============================] - ETA: 0s - loss: 0.3896 - categorical_accuracy: 0.9608\n",
      "Epoch 10: val_loss did not improve from 1.53020\n",
      "\n",
      "Epoch 10: ReduceLROnPlateau reducing learning rate to 4.0000001899898055e-05.\n",
      "6/6 [==============================] - 49s 8s/step - loss: 0.3896 - categorical_accuracy: 0.9608 - val_loss: 2.8797 - val_categorical_accuracy: 0.1600 - lr: 2.0000e-04\n",
      "Epoch 11/15\n",
      "6/6 [==============================] - ETA: 0s - loss: 0.3809 - categorical_accuracy: 0.9623\n",
      "Epoch 11: val_loss did not improve from 1.53020\n",
      "6/6 [==============================] - 49s 8s/step - loss: 0.3809 - categorical_accuracy: 0.9623 - val_loss: 3.1022 - val_categorical_accuracy: 0.1600 - lr: 4.0000e-05\n",
      "Epoch 12/15\n",
      "6/6 [==============================] - ETA: 0s - loss: 0.3793 - categorical_accuracy: 0.9668\n",
      "Epoch 12: val_loss did not improve from 1.53020\n",
      "6/6 [==============================] - 48s 8s/step - loss: 0.3793 - categorical_accuracy: 0.9668 - val_loss: 3.3328 - val_categorical_accuracy: 0.1600 - lr: 4.0000e-05\n",
      "Epoch 12: early stopping\n"
     ]
    }
   ],
   "source": [
    "\n",
    "print(\"Total Params:\", conv_3d2_model.count_params())\n",
    "history_model2=conv_3d2.train_model(conv_3d2_model,augment_data=False)"
   ]
  },
  {
   "cell_type": "code",
   "execution_count": 26,
   "metadata": {
    "colab": {
     "base_uri": "https://localhost:8080/",
     "height": 368
    },
    "executionInfo": {
     "elapsed": 24571,
     "status": "ok",
     "timestamp": 1709128504713,
     "user": {
      "displayName": "vamshidhar reddy",
      "userId": "09564641503446018519"
     },
     "user_tz": -330
    },
    "id": "nSBTzMnj4kpH",
    "outputId": "24dd39c7-d427-4f5b-ea0f-2e4865421dc2"
   },
   "outputs": [
    {
     "data": {
      "image/png": "[encoded data removed]",
      "text/plain": [
       "<Figure size 1080x288 with 2 Axes>"
      ]
     },
     "metadata": {
      "needs_background": "light"
     },
     "output_type": "display_data"
    }
   ],
   "source": [
    "plot(history_model2)"
   ]
  },
  {
   "cell_type": "markdown",
   "metadata": {
    "id": "Uj4B-sofHnzX"
   },
   "source": [
    "Clearly the model is overfitting as the validation accuracy is not improving."
   ]
  },
  {
   "cell_type": "markdown",
   "metadata": {
    "id": "oZDKeDeK4kpI"
   },
   "source": [
    "##### We can see  val_loss did not improve\n",
    "- Last Epoch stop on 12/15!! good job earlystopping ;)\n",
    "- Best weights save automatically. The validation accuracy of 20% and training accuracy of 94%. Next we will try to reduce the filter size and image resolution and see if get better results."
   ]
  },
  {
   "cell_type": "markdown",
   "metadata": {
    "id": "511I-maJ4kpI"
   },
   "source": [
    "## Model 3\n",
    "### added more layers and reducing the frames to sample and keeping hte dense neurons to 16"
   ]
  },
  {
   "cell_type": "code",
   "execution_count": 27,
   "metadata": {
    "id": "Umbh-a68H9Yd"
   },
   "outputs": [],
   "source": [
    "class ModelConv3D2(ModelBuilder):\n",
    "    def define_model(self, filtersize=(3, 3, 3), dense_neurons=16, dropout=0.25):\n",
    "        model = Sequential()\n",
    "\n",
    "        model.add(Conv3D(16, filtersize, padding='same', input_shape=(self.frames_to_sample, self.image_height, self.image_width, self.channels)))\n",
    "        model.add(Activation('relu'))\n",
    "        model.add(BatchNormalization())\n",
    "        model.add(MaxPooling3D(pool_size=(2, 2, 2)))\n",
    "\n",
    "        model.add(Conv3D(32, filtersize, padding='same'))\n",
    "        model.add(Activation('relu'))\n",
    "        model.add(BatchNormalization())\n",
    "        model.add(MaxPooling3D(pool_size=(2, 2, 2)))\n",
    "\n",
    "        # Additional Conv3D layers\n",
    "        model.add(Conv3D(64, filtersize, padding='same'))\n",
    "        model.add(Activation('relu'))\n",
    "        model.add(BatchNormalization())\n",
    "        model.add(MaxPooling3D(pool_size=(2, 2, 2)))\n",
    "\n",
    "\n",
    "\n",
    "        # Flatten layer\n",
    "        model.add(Flatten())\n",
    "\n",
    "        # Dense layers\n",
    "        model.add(Dense(dense_neurons, activation='relu'))\n",
    "        model.add(BatchNormalization())\n",
    "        model.add(Dropout(dropout))\n",
    "\n",
    "        # Output layer\n",
    "        model.add(Dense(self.num_classes, activation='softmax'))\n",
    "\n",
    "        optimizer = optimizers.Adam()\n",
    "        model.compile(optimizer=optimizer, loss='categorical_crossentropy', metrics=['categorical_accuracy'])\n",
    "\n",
    "        return model\n"
   ]
  },
  {
   "cell_type": "markdown",
   "metadata": {
    "id": "MA8fHocuJWKF"
   },
   "source": [
    "## checking by increasing the image properties hieght and width and increasing the frames to sample size and reducing the batch size to 64"
   ]
  },
  {
   "cell_type": "code",
   "execution_count": 28,
   "metadata": {
    "colab": {
     "base_uri": "https://localhost:8080/"
    },
    "executionInfo": {
     "elapsed": 788,
     "status": "ok",
     "timestamp": 1709106596270,
     "user": {
      "displayName": "vamshidhar reddy",
      "userId": "09564641503446018519"
     },
     "user_tz": -330
    },
    "id": "O2oavPPAIRFd",
    "outputId": "526f11fa-4de7-4888-f4d7-f899275c9257"
   },
   "outputs": [
    {
     "name": "stdout",
     "output_type": "stream",
     "text": [
      "Model: \"sequential_3\"\n",
      "_________________________________________________________________\n",
      " Layer (type)                Output Shape              Param #   \n",
      "=================================================================\n",
      " conv3d_6 (Conv3D)           (None, 11, 80, 80, 16)    1312      \n",
      "                                                                 \n",
      " activation_6 (Activation)   (None, 11, 80, 80, 16)    0         \n",
      "                                                                 \n",
      " batch_normalization_9 (Bat  (None, 11, 80, 80, 16)    64        \n",
      " chNormalization)                                                \n",
      "                                                                 \n",
      " max_pooling3d_6 (MaxPoolin  (None, 5, 40, 40, 16)     0         \n",
      " g3D)                                                            \n",
      "                                                                 \n",
      " conv3d_7 (Conv3D)           (None, 5, 40, 40, 32)     13856     \n",
      "                                                                 \n",
      " activation_7 (Activation)   (None, 5, 40, 40, 32)     0         \n",
      "                                                                 \n",
      " batch_normalization_10 (Ba  (None, 5, 40, 40, 32)     128       \n",
      " tchNormalization)                                               \n",
      "                                                                 \n",
      " max_pooling3d_7 (MaxPoolin  (None, 2, 20, 20, 32)     0         \n",
      " g3D)                                                            \n",
      "                                                                 \n",
      " conv3d_8 (Conv3D)           (None, 2, 20, 20, 64)     55360     \n",
      "                                                                 \n",
      " activation_8 (Activation)   (None, 2, 20, 20, 64)     0         \n",
      "                                                                 \n",
      " batch_normalization_11 (Ba  (None, 2, 20, 20, 64)     256       \n",
      " tchNormalization)                                               \n",
      "                                                                 \n",
      " max_pooling3d_8 (MaxPoolin  (None, 1, 10, 10, 64)     0         \n",
      " g3D)                                                            \n",
      "                                                                 \n",
      " flatten_3 (Flatten)         (None, 6400)              0         \n",
      "                                                                 \n",
      " dense_6 (Dense)             (None, 16)                102416    \n",
      "                                                                 \n",
      " batch_normalization_12 (Ba  (None, 16)                64        \n",
      " tchNormalization)                                               \n",
      "                                                                 \n",
      " dropout_3 (Dropout)         (None, 16)                0         \n",
      "                                                                 \n",
      " dense_7 (Dense)             (None, 5)                 85        \n",
      "                                                                 \n",
      "=================================================================\n",
      "Total params: 173541 (677.89 KB)\n",
      "Trainable params: 173285 (676.89 KB)\n",
      "Non-trainable params: 256 (1.00 KB)\n",
      "_________________________________________________________________\n"
     ]
    }
   ],
   "source": [
    "conv_3d3 = ModelConv3D2()\n",
    "conv_3d3.initialize_path(project_folder)\n",
    "conv_3d3.initialize_image_properties(image_height=80, image_width=80)\n",
    "conv_3d3.initialize_hyperparams(frames_to_sample=11, batch_size=128, num_epochs=5)\n",
    "conv_3d3_model = conv_3d3.define_model()\n",
    "conv_3d3_model.summary()"
   ]
  },
  {
   "cell_type": "code",
   "execution_count": 29,
   "metadata": {
    "colab": {
     "base_uri": "https://localhost:8080/"
    },
    "executionInfo": {
     "elapsed": 2098256,
     "status": "ok",
     "timestamp": 1709108698093,
     "user": {
      "displayName": "vamshidhar reddy",
      "userId": "09564641503446018519"
     },
     "user_tz": -330
    },
    "id": "OZo7t-0m4kpK",
    "outputId": "5ba8a6ea-a67c-4644-9dd1-25fe16f4f7cb"
   },
   "outputs": [
    {
     "name": "stdout",
     "output_type": "stream",
     "text": [
      "Total Params: 173541\n",
      "WARNING:tensorflow:`period` argument is deprecated. Please use `save_freq` to specify the frequency in number of batches seen.\n",
      "Epoch 1/5\n",
      "6/6 [==============================] - ETA: 0s - loss: 1.6790 - categorical_accuracy: 0.3348 \n",
      "Epoch 1: val_loss improved from inf to 1.64509, saving model to model_init_2024-08-3023_04_24.748927\\model-00001-1.67899-0.33484-1.64509-0.29000.h5\n",
      "6/6 [==============================] - 126s 20s/step - loss: 1.6790 - categorical_accuracy: 0.3348 - val_loss: 1.6451 - val_categorical_accuracy: 0.2900 - lr: 0.0010\n",
      "Epoch 2/5\n",
      "6/6 [==============================] - ETA: 0s - loss: 1.1651 - categorical_accuracy: 0.5475 \n",
      "Epoch 2: val_loss improved from 1.64509 to 1.60614, saving model to model_init_2024-08-3023_04_24.748927\\model-00002-1.16506-0.54751-1.60614-0.20000.h5\n",
      "6/6 [==============================] - 121s 20s/step - loss: 1.1651 - categorical_accuracy: 0.5475 - val_loss: 1.6061 - val_categorical_accuracy: 0.2000 - lr: 0.0010\n",
      "Epoch 3/5\n",
      "6/6 [==============================] - ETA: 0s - loss: 1.0116 - categorical_accuracy: 0.6425 \n",
      "Epoch 3: val_loss improved from 1.60614 to 1.57670, saving model to model_init_2024-08-3023_04_24.748927\\model-00003-1.01164-0.64253-1.57670-0.25000.h5\n",
      "6/6 [==============================] - 121s 20s/step - loss: 1.0116 - categorical_accuracy: 0.6425 - val_loss: 1.5767 - val_categorical_accuracy: 0.2500 - lr: 0.0010\n",
      "Epoch 4/5\n",
      "6/6 [==============================] - ETA: 0s - loss: 0.9058 - categorical_accuracy: 0.6998 \n",
      "Epoch 4: val_loss did not improve from 1.57670\n",
      "6/6 [==============================] - 121s 20s/step - loss: 0.9058 - categorical_accuracy: 0.6998 - val_loss: 1.6322 - val_categorical_accuracy: 0.2700 - lr: 0.0010\n",
      "Epoch 5/5\n",
      "6/6 [==============================] - ETA: 0s - loss: 0.7928 - categorical_accuracy: 0.7632 \n",
      "Epoch 5: val_loss did not improve from 1.57670\n",
      "6/6 [==============================] - 121s 20s/step - loss: 0.7928 - categorical_accuracy: 0.7632 - val_loss: 1.6821 - val_categorical_accuracy: 0.2500 - lr: 0.0010\n"
     ]
    }
   ],
   "source": [
    "print(\"Total Params:\", conv_3d3_model.count_params())\n",
    "history_model3=conv_3d3.train_model(conv_3d3_model,augment_data=False)"
   ]
  },
  {
   "cell_type": "code",
   "execution_count": 30,
   "metadata": {
    "colab": {
     "base_uri": "https://localhost:8080/",
     "height": 369
    },
    "executionInfo": {
     "elapsed": 2198,
     "status": "ok",
     "timestamp": 1709108722803,
     "user": {
      "displayName": "vamshidhar reddy",
      "userId": "09564641503446018519"
     },
     "user_tz": -330
    },
    "id": "G0odqzS94kpK",
    "outputId": "c38f4125-3fae-482b-bb0a-26698a8e33c5"
   },
   "outputs": [
    {
     "data": {
      "image/png": "[encoded data removed]",
      "text/plain": [
       "<Figure size 1080x288 with 2 Axes>"
      ]
     },
     "metadata": {
      "needs_background": "light"
     },
     "output_type": "display_data"
    }
   ],
   "source": [
    "plot(history_model3)"
   ]
  },
  {
   "cell_type": "markdown",
   "metadata": {
    "id": "hdwjipnW4kpL"
   },
   "source": [
    "##### Model has a  best validation accuracy of 20% and training accuracy of 87% . Also we were able to reduce the parameter size by half the earlier model. Let's trying adding more layers"
   ]
  },
  {
   "cell_type": "markdown",
   "metadata": {
    "id": "0h83OtTM4kpL"
   },
   "source": [
    "## Model 4 -\n",
    "### Adding more layers - Batch Size = 20 and No. of Epochs = 25"
   ]
  },
  {
   "cell_type": "code",
   "execution_count": 31,
   "metadata": {
    "id": "WSsC8bwH0j4L"
   },
   "outputs": [],
   "source": [
    "class ModelConv3D2(ModelBuilder):\n",
    "    def define_model(self, filtersize=(3, 3, 3), dense_neurons=64, dropout=0.25):\n",
    "        model = Sequential()\n",
    "\n",
    "        model.add(Conv3D(16, filtersize, padding='same', input_shape=(self.frames_to_sample, self.image_height, self.image_width, self.channels)))\n",
    "        model.add(Activation('relu'))\n",
    "        model.add(BatchNormalization())\n",
    "        model.add(MaxPooling3D(pool_size=(2, 2, 2)))\n",
    "\n",
    "        model.add(Conv3D(32, filtersize, padding='same'))\n",
    "        model.add(Activation('relu'))\n",
    "        model.add(BatchNormalization())\n",
    "        model.add(MaxPooling3D(pool_size=(2, 2, 2)))\n",
    "\n",
    "        # Additional Conv3D layers\n",
    "        model.add(Conv3D(64, filtersize, padding='same'))\n",
    "        model.add(Activation('relu'))\n",
    "        model.add(BatchNormalization())\n",
    "        model.add(MaxPooling3D(pool_size=(2, 2, 2)))\n",
    "\n",
    "        model.add(Conv3D(128, filtersize, padding='same'))\n",
    "        model.add(Activation('relu'))\n",
    "        model.add(BatchNormalization())\n",
    "\n",
    "\n",
    "\n",
    "\n",
    "        # Flatten layer\n",
    "        model.add(Flatten())\n",
    "\n",
    "        # Dense layers\n",
    "        model.add(Dense(dense_neurons, activation='relu'))\n",
    "        model.add(BatchNormalization())\n",
    "        model.add(Dropout(dropout))\n",
    "\n",
    "        # Output layer\n",
    "        model.add(Dense(self.num_classes, activation='softmax'))\n",
    "\n",
    "        optimizer = optimizers.Adam()\n",
    "        model.compile(optimizer=optimizer, loss='categorical_crossentropy', metrics=['categorical_accuracy'])\n",
    "\n",
    "        return model\n"
   ]
  },
  {
   "cell_type": "code",
   "execution_count": 32,
   "metadata": {
    "colab": {
     "base_uri": "https://localhost:8080/"
    },
    "executionInfo": {
     "elapsed": 1258,
     "status": "ok",
     "timestamp": 1709123354533,
     "user": {
      "displayName": "vamshidhar reddy",
      "userId": "09564641503446018519"
     },
     "user_tz": -330
    },
    "id": "Ndee6FMX4kpM",
    "outputId": "cf81e5f1-5bf1-43c6-d21a-945a776b67f9"
   },
   "outputs": [
    {
     "name": "stdout",
     "output_type": "stream",
     "text": [
      "Model: \"sequential_4\"\n",
      "_________________________________________________________________\n",
      " Layer (type)                Output Shape              Param #   \n",
      "=================================================================\n",
      " conv3d_9 (Conv3D)           (None, 11, 80, 80, 16)    1312      \n",
      "                                                                 \n",
      " activation_9 (Activation)   (None, 11, 80, 80, 16)    0         \n",
      "                                                                 \n",
      " batch_normalization_13 (Ba  (None, 11, 80, 80, 16)    64        \n",
      " tchNormalization)                                               \n",
      "                                                                 \n",
      " max_pooling3d_9 (MaxPoolin  (None, 5, 40, 40, 16)     0         \n",
      " g3D)                                                            \n",
      "                                                                 \n",
      " conv3d_10 (Conv3D)          (None, 5, 40, 40, 32)     13856     \n",
      "                                                                 \n",
      " activation_10 (Activation)  (None, 5, 40, 40, 32)     0         \n",
      "                                                                 \n",
      " batch_normalization_14 (Ba  (None, 5, 40, 40, 32)     128       \n",
      " tchNormalization)                                               \n",
      "                                                                 \n",
      " max_pooling3d_10 (MaxPooli  (None, 2, 20, 20, 32)     0         \n",
      " ng3D)                                                           \n",
      "                                                                 \n",
      " conv3d_11 (Conv3D)          (None, 2, 20, 20, 64)     55360     \n",
      "                                                                 \n",
      " activation_11 (Activation)  (None, 2, 20, 20, 64)     0         \n",
      "                                                                 \n",
      " batch_normalization_15 (Ba  (None, 2, 20, 20, 64)     256       \n",
      " tchNormalization)                                               \n",
      "                                                                 \n",
      " max_pooling3d_11 (MaxPooli  (None, 1, 10, 10, 64)     0         \n",
      " ng3D)                                                           \n",
      "                                                                 \n",
      " conv3d_12 (Conv3D)          (None, 1, 10, 10, 128)    221312    \n",
      "                                                                 \n",
      " activation_12 (Activation)  (None, 1, 10, 10, 128)    0         \n",
      "                                                                 \n",
      " batch_normalization_16 (Ba  (None, 1, 10, 10, 128)    512       \n",
      " tchNormalization)                                               \n",
      "                                                                 \n",
      " flatten_4 (Flatten)         (None, 12800)             0         \n",
      "                                                                 \n",
      " dense_8 (Dense)             (None, 64)                819264    \n",
      "                                                                 \n",
      " batch_normalization_17 (Ba  (None, 64)                256       \n",
      " tchNormalization)                                               \n",
      "                                                                 \n",
      " dropout_4 (Dropout)         (None, 64)                0         \n",
      "                                                                 \n",
      " dense_9 (Dense)             (None, 5)                 325       \n",
      "                                                                 \n",
      "=================================================================\n",
      "Total params: 1112645 (4.24 MB)\n",
      "Trainable params: 1112037 (4.24 MB)\n",
      "Non-trainable params: 608 (2.38 KB)\n",
      "_________________________________________________________________\n"
     ]
    }
   ],
   "source": [
    "conv_3d4=ModelConv3D2()\n",
    "conv_3d4.initialize_path(project_folder)\n",
    "conv_3d4.initialize_image_properties(image_height=80,image_width=80)\n",
    "conv_3d4.initialize_hyperparams(frames_to_sample=11,batch_size=128,num_epochs=11)\n",
    "conv_3d4_model=conv_3d4.define_model()\n",
    "conv_3d4_model.summary()"
   ]
  },
  {
   "cell_type": "code",
   "execution_count": 33,
   "metadata": {
    "colab": {
     "base_uri": "https://localhost:8080/"
    },
    "id": "rdDvIi3z4kpQ",
    "outputId": "e51e06aa-6925-40e2-d6e2-6638b8fdebfe"
   },
   "outputs": [
    {
     "name": "stdout",
     "output_type": "stream",
     "text": [
      "Total Params: 1112645\n",
      "WARNING:tensorflow:`period` argument is deprecated. Please use `save_freq` to specify the frequency in number of batches seen.\n",
      "Epoch 1/11\n",
      "6/6 [==============================] - ETA: 0s - loss: 1.7251 - categorical_accuracy: 0.4593 \n",
      "Epoch 1: val_loss improved from inf to 1.57889, saving model to model_init_2024-08-3023_14_42.860274\\model-00001-1.72514-0.45928-1.57889-0.23000.h5\n",
      "6/6 [==============================] - 233s 38s/step - loss: 1.7251 - categorical_accuracy: 0.4593 - val_loss: 1.5789 - val_categorical_accuracy: 0.2300 - lr: 0.0010\n",
      "Epoch 2/11\n",
      "6/6 [==============================] - ETA: 0s - loss: 0.7807 - categorical_accuracy: 0.7089 \n",
      "Epoch 2: val_loss improved from 1.57889 to 1.56944, saving model to model_init_2024-08-3023_14_42.860274\\model-00002-0.78074-0.70890-1.56944-0.25000.h5\n",
      "6/6 [==============================] - 230s 38s/step - loss: 0.7807 - categorical_accuracy: 0.7089 - val_loss: 1.5694 - val_categorical_accuracy: 0.2500 - lr: 0.0010\n",
      "Epoch 3/11\n",
      "6/6 [==============================] - ETA: 0s - loss: 0.5952 - categorical_accuracy: 0.7738 \n",
      "Epoch 3: val_loss did not improve from 1.56944\n",
      "6/6 [==============================] - 235s 39s/step - loss: 0.5952 - categorical_accuracy: 0.7738 - val_loss: 2.1874 - val_categorical_accuracy: 0.1900 - lr: 0.0010\n",
      "Epoch 4/11\n",
      "6/6 [==============================] - ETA: 0s - loss: 0.4861 - categorical_accuracy: 0.8258 \n",
      "Epoch 4: val_loss did not improve from 1.56944\n",
      "6/6 [==============================] - 230s 37s/step - loss: 0.4861 - categorical_accuracy: 0.8258 - val_loss: 3.2399 - val_categorical_accuracy: 0.1600 - lr: 0.0010\n",
      "Epoch 5/11\n",
      "6/6 [==============================] - ETA: 0s - loss: 0.3217 - categorical_accuracy: 0.8884 \n",
      "Epoch 5: val_loss did not improve from 1.56944\n",
      "6/6 [==============================] - 228s 37s/step - loss: 0.3217 - categorical_accuracy: 0.8884 - val_loss: 3.7302 - val_categorical_accuracy: 0.1600 - lr: 0.0010\n",
      "Epoch 6/11\n",
      "6/6 [==============================] - ETA: 0s - loss: 0.2950 - categorical_accuracy: 0.9087 \n",
      "Epoch 6: val_loss did not improve from 1.56944\n",
      "\n",
      "Epoch 6: ReduceLROnPlateau reducing learning rate to 0.00020000000949949026.\n",
      "6/6 [==============================] - 229s 37s/step - loss: 0.2950 - categorical_accuracy: 0.9087 - val_loss: 4.3751 - val_categorical_accuracy: 0.2400 - lr: 0.0010\n",
      "Epoch 7/11\n",
      "6/6 [==============================] - ETA: 0s - loss: 0.2347 - categorical_accuracy: 0.9291 \n",
      "Epoch 7: val_loss did not improve from 1.56944\n",
      "6/6 [==============================] - 239s 39s/step - loss: 0.2347 - categorical_accuracy: 0.9291 - val_loss: 4.5259 - val_categorical_accuracy: 0.2400 - lr: 2.0000e-04\n",
      "Epoch 8/11\n",
      "6/6 [==============================] - ETA: 0s - loss: 0.2127 - categorical_accuracy: 0.9465 \n",
      "Epoch 8: val_loss did not improve from 1.56944\n",
      "6/6 [==============================] - 241s 40s/step - loss: 0.2127 - categorical_accuracy: 0.9465 - val_loss: 4.6169 - val_categorical_accuracy: 0.2500 - lr: 2.0000e-04\n",
      "Epoch 9/11\n",
      "6/6 [==============================] - ETA: 0s - loss: 0.1919 - categorical_accuracy: 0.9472 \n",
      "Epoch 9: val_loss did not improve from 1.56944\n",
      "6/6 [==============================] - 233s 38s/step - loss: 0.1919 - categorical_accuracy: 0.9472 - val_loss: 4.7802 - val_categorical_accuracy: 0.2300 - lr: 2.0000e-04\n",
      "Epoch 10/11\n",
      "6/6 [==============================] - ETA: 0s - loss: 0.1614 - categorical_accuracy: 0.9570 \n",
      "Epoch 10: val_loss did not improve from 1.56944\n",
      "\n",
      "Epoch 10: ReduceLROnPlateau reducing learning rate to 4.0000001899898055e-05.\n",
      "6/6 [==============================] - 227s 37s/step - loss: 0.1614 - categorical_accuracy: 0.9570 - val_loss: 4.9305 - val_categorical_accuracy: 0.2700 - lr: 2.0000e-04\n",
      "Epoch 11/11\n",
      "6/6 [==============================] - ETA: 0s - loss: 0.1684 - categorical_accuracy: 0.9578 \n",
      "Epoch 11: val_loss did not improve from 1.56944\n",
      "6/6 [==============================] - 228s 37s/step - loss: 0.1684 - categorical_accuracy: 0.9578 - val_loss: 4.9876 - val_categorical_accuracy: 0.2900 - lr: 4.0000e-05\n"
     ]
    }
   ],
   "source": [
    "print(\"Total Params:\", conv_3d4_model.count_params())\n",
    "history_model4=conv_3d4.train_model(conv_3d4_model,augment_data=True)"
   ]
  },
  {
   "cell_type": "code",
   "execution_count": 34,
   "metadata": {
    "id": "XonlTPDC4kpS"
   },
   "outputs": [
    {
     "data": {
      "image/png": "[encoded data removed]",
      "text/plain": [
       "<Figure size 1080x288 with 2 Axes>"
      ]
     },
     "metadata": {
      "needs_background": "light"
     },
     "output_type": "display_data"
    }
   ],
   "source": [
    "plot(history_model4)"
   ]
  },
  {
   "cell_type": "markdown",
   "metadata": {
    "id": "GXWcEUm5_Gky"
   },
   "source": []
  },
  {
   "cell_type": "markdown",
   "metadata": {
    "id": "KIlA-mQC_BMs"
   },
   "source": [
    "##  5 Conclusion"
   ]
  },
  {
   "cell_type": "markdown",
   "metadata": {
    "id": "5RzIXXoz4kpT"
   },
   "source": [
    "##### we have tried to add more layers and experiment with different hyper parameters , but as and when we used to increase the size of image or add more dense neurons the system would crash thus rendering us helpless but we learnt that by changing these hyper parameters increasing the image , frames decreasing the batch size, adding more layers ,adding dropouts model accurcy and validation accuracy would be improved"
   ]
  }
 ],
 "metadata": {
  "colab": {
   "provenance": []
  },
  "kernelspec": {
   "display_name": "Python 3",
   "language": "python",
   "name": "python3"
  },
  "language_info": {
   "codemirror_mode": {
    "name": "ipython",
    "version": 3
   },
   "file_extension": ".py",
   "mimetype": "text/x-python",
   "name": "python",
   "nbconvert_exporter": "python",
   "pygments_lexer": "ipython3",
   "version": "3.8.8"
  }
 },
 "nbformat": 4,
 "nbformat_minor": 1
}
